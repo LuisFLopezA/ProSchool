{
  "cells": [
    {
      "cell_type": "markdown",
      "metadata": {
        "id": "ch-mSd06OaYB"
      },
      "source": [
        "# sklearn Exercise - Logistic Regression\n",
        "\n",
        "The aim with this exercise is to to continue to work with sklearn on logistic regressions.\n",
        "\n",
        "You can find more details of the package here: https://scikit-learn.org/stable/index.html\n",
        "\n",
        "NOTE: We will import the modules as they are needed.\n"
      ]
    },
    {
      "cell_type": "code",
      "execution_count": null,
      "metadata": {
        "collapsed": true,
        "id": "qoWzIn_ROaYE"
      },
      "outputs": [],
      "source": [
        "import pandas as pd\n",
        "import numpy as np\n",
        "import matplotlib.pyplot as plt\n",
        "import seaborn as sns\n",
        "from google.colab import drive"
      ]
    },
    {
      "cell_type": "markdown",
      "metadata": {
        "collapsed": true,
        "id": "kkNgwxE_OaYF"
      },
      "source": [
        "## Get the Data\n",
        "\n",
        "We will use an advertising dataset.\n",
        "\n",
        "The name of the dataset is [advertising](https://drive.google.com/uc?id=1kJlXXRlbBC-tCWV7XBYoJ8O91RFxf5uR).\n",
        "\n",
        "This dataset indicates whether or not a particular internet user clicked on an Advertisement on a company website. We will try to create a model that will predict whether or not they will click on an ad based on the features of that user.\n",
        "\n",
        "This dataset includes the following features:\n",
        "* 'Daily Time Spent on Site': consumer time on site in minutes\n",
        "* 'Age': cutomer age in years\n",
        "* 'Area Income': Avg. Income of geographical area of consumer\n",
        "* 'Daily Internet Usage': Avg. minutes a day consumer is on the internet\n",
        "* 'Ad Topic Line': Headline of the advertisement\n",
        "* 'City': City of consumer\n",
        "* 'Male': Whether or not consumer was male\n",
        "* 'Country': Country of consumer\n",
        "* 'Timestamp': Time at which consumer clicked on Ad or closed window\n",
        "* 'Clicked on Ad': 0 or 1 indicated clicking on Ad\n",
        "\n",
        "You will need to upload the file to your internal Google Drive and define the absolute p"
      ]
    },
    {
      "cell_type": "code",
      "execution_count": null,
      "metadata": {
        "id": "OKvoeVF8OaYG"
      },
      "outputs": [],
      "source": [
        "drive.mount('/content/gdrive')\n",
        "ad_data = pd.read_csv('gdrive/My Drive/Colab Notebooks/advertising.csv')"
      ]
    },
    {
      "cell_type": "markdown",
      "metadata": {
        "id": "RcTbFLL7OaYG"
      },
      "source": [
        "Check the the dataset information to review how the data looks and some of their descriptive statistics.\n",
        "\n",
        "Hint: You can also use the info function just to confirm which columns are numeric and which are not."
      ]
    },
    {
      "cell_type": "code",
      "execution_count": null,
      "metadata": {
        "id": "jZxqSih5OaYG"
      },
      "outputs": [],
      "source": [
        "## CODE HERE"
      ]
    },
    {
      "cell_type": "code",
      "source": [
        "## CODE HERE"
      ],
      "metadata": {
        "id": "QsRpUjD3Sk51"
      },
      "execution_count": null,
      "outputs": []
    },
    {
      "cell_type": "code",
      "execution_count": null,
      "metadata": {
        "id": "gdxPZPMUOaYH"
      },
      "outputs": [],
      "source": [
        "## CODE HERE"
      ]
    },
    {
      "cell_type": "markdown",
      "metadata": {
        "id": "niItQayuOaYI"
      },
      "source": [
        "## Exploratory Data Analysis\n",
        "\n",
        "Create an histogram of the age."
      ]
    },
    {
      "cell_type": "code",
      "execution_count": null,
      "metadata": {
        "id": "UA2oYHRnOaYI"
      },
      "outputs": [],
      "source": [
        "## CODE HERE"
      ]
    },
    {
      "cell_type": "markdown",
      "metadata": {
        "id": "OKjzPFvtOaYI"
      },
      "source": [
        "Create a jointplot to compare the Area Income versus the Age."
      ]
    },
    {
      "cell_type": "code",
      "execution_count": null,
      "metadata": {
        "id": "pwsN8Kn_OaYI"
      },
      "outputs": [],
      "source": [
        "## CODE HERE"
      ]
    },
    {
      "cell_type": "markdown",
      "metadata": {
        "id": "PCEiqK_2OaYI"
      },
      "source": [
        "Create a jointplot showing the kde distributions of Daily Time spent on site versus Age\n",
        "\n",
        "[Result](https://drive.google.com/uc?id=13fyoatYQaD_nYlG4rDDMs6lb95AkNQtN)"
      ]
    },
    {
      "cell_type": "code",
      "execution_count": null,
      "metadata": {
        "id": "gmT10-5rOaYJ"
      },
      "outputs": [],
      "source": [
        "## CODE HERE"
      ]
    },
    {
      "cell_type": "markdown",
      "metadata": {
        "id": "dr9ghdGXOaYJ"
      },
      "source": [
        "Now, do a regular jointplot of Daily Time Spent on Site versus Daily Internet Usage"
      ]
    },
    {
      "cell_type": "code",
      "execution_count": null,
      "metadata": {
        "id": "OBsxlkYHOaYJ"
      },
      "outputs": [],
      "source": [
        "## CODE HERE"
      ]
    },
    {
      "cell_type": "markdown",
      "metadata": {
        "id": "1UPeHTBuOaYJ"
      },
      "source": [
        "Finally, create a pairplot where you use hue for the Clicked on Ad feature\n",
        "\n",
        "[Result](https://drive.google.com/uc?id=1YNKlLEg1xIOdyJ-71HqExJjmvzvzZuoh)"
      ]
    },
    {
      "cell_type": "code",
      "execution_count": null,
      "metadata": {
        "id": "Cv-hhwrIOaYJ"
      },
      "outputs": [],
      "source": [
        "## CODE HERE"
      ]
    },
    {
      "cell_type": "markdown",
      "source": [
        "**Answer the question**\n",
        "\n",
        "What is the categorical variable?"
      ],
      "metadata": {
        "id": "GXyYw1tdc-3w"
      }
    },
    {
      "cell_type": "code",
      "source": [
        "## ANSWER"
      ],
      "metadata": {
        "id": "eayE8AQKdL5F"
      },
      "execution_count": null,
      "outputs": []
    },
    {
      "cell_type": "markdown",
      "metadata": {
        "id": "qHG5LOsUOaYJ"
      },
      "source": [
        "# Logistic Regression\n",
        "\n",
        "We will proceed to create our model\n",
        "\n",
        "Set Y equal to the \"Clicked on Ad\" column data.\n",
        "\n",
        "Set X equal to the remaining numerical features data."
      ]
    },
    {
      "cell_type": "code",
      "execution_count": null,
      "metadata": {
        "collapsed": true,
        "id": "W4eBcLN3OaYK"
      },
      "outputs": [],
      "source": [
        "## CODE HERE"
      ]
    },
    {
      "cell_type": "code",
      "execution_count": null,
      "metadata": {
        "id": "gb5Jo64SOaYK"
      },
      "outputs": [],
      "source": [
        "## CODE HERE"
      ]
    },
    {
      "cell_type": "markdown",
      "source": [
        "We will use sklearn's train_test_split to split the data into training and testing sets.\n",
        "\n",
        "Use a test size of 0.33 and random state equal to 42\n",
        "\n",
        "Note: Remember to import the function"
      ],
      "metadata": {
        "id": "QW7lzL4YxfY1"
      }
    },
    {
      "cell_type": "code",
      "execution_count": null,
      "metadata": {
        "collapsed": true,
        "id": "hqkklQkcOaYK"
      },
      "outputs": [],
      "source": [
        "## CODE HERE"
      ]
    },
    {
      "cell_type": "markdown",
      "metadata": {
        "id": "_txgDuA1OaYK"
      },
      "source": [
        "## Training the model\n",
        "\n",
        "We will use sklearn's [Logistic Regresion model](https://scikit-learn.org/stable/modules/generated/sklearn.linear_model.LogisticRegression.html).\n",
        "\n",
        "Import the module and create an instance of the Logistic Regresion model."
      ]
    },
    {
      "cell_type": "code",
      "execution_count": null,
      "metadata": {
        "collapsed": true,
        "id": "kww5hetXOaYK"
      },
      "outputs": [],
      "source": [
        "## CODE HERE"
      ]
    },
    {
      "cell_type": "code",
      "source": [
        "## CODE HERE"
      ],
      "metadata": {
        "id": "_oM01pigyK_o"
      },
      "execution_count": null,
      "outputs": []
    },
    {
      "cell_type": "markdown",
      "source": [
        "Then, *fit* the training data into this model."
      ],
      "metadata": {
        "id": "iDR2Z-FuyLOQ"
      }
    },
    {
      "cell_type": "code",
      "execution_count": null,
      "metadata": {
        "id": "LXssOBanOaYK"
      },
      "outputs": [],
      "source": [
        "## CODE HERE"
      ]
    },
    {
      "cell_type": "markdown",
      "metadata": {
        "id": "KKdqjiXAOaYK"
      },
      "source": [
        "## Predicting Test Data\n",
        "\n",
        "Once you had fit the model, you can evaluate the performance of the model using the test data.\n",
        "\n",
        "Thus, *predict* the results using the *X* test data."
      ]
    },
    {
      "cell_type": "code",
      "execution_count": null,
      "metadata": {
        "id": "ei6GabPfOaYL"
      },
      "outputs": [],
      "source": [
        "## CODE HERE"
      ]
    },
    {
      "cell_type": "markdown",
      "metadata": {
        "id": "lQRu46StOaYL"
      },
      "source": [
        "## Evaluating the Model\n",
        "\n",
        "We will use sklearn's [metrics](https://scikit-learn.org/stable/modules/model_evaluation.html) module to evaluate the perfomance of the model.\n",
        "\n",
        "To evaluate the performance, we will use sklearn's [classification report](https://scikit-learn.org/stable/modules/generated/sklearn.metrics.classification_report.html)"
      ]
    },
    {
      "cell_type": "code",
      "execution_count": null,
      "metadata": {
        "collapsed": true,
        "id": "3v1JmIE-OaYL"
      },
      "outputs": [],
      "source": [
        "## CODE HERE"
      ]
    },
    {
      "cell_type": "code",
      "execution_count": null,
      "metadata": {
        "id": "z_6i60yFOaYL"
      },
      "outputs": [],
      "source": [
        "## CODE HERE"
      ]
    },
    {
      "cell_type": "markdown",
      "source": [
        "## Reduced Model\n",
        "\n",
        "Repeat the same entire analysis from Training and Testing Data now only using three out of five of the numerical features available.\n",
        "\n",
        "You are free to choose the three features would you like to use."
      ],
      "metadata": {
        "id": "_JPOuwzEzI-p"
      }
    },
    {
      "cell_type": "code",
      "source": [
        "## CODE HERE"
      ],
      "metadata": {
        "id": "k1vHn30pzm99"
      },
      "execution_count": null,
      "outputs": []
    },
    {
      "cell_type": "code",
      "source": [
        "## CODE HERE"
      ],
      "metadata": {
        "id": "LBJW_z4kznJL"
      },
      "execution_count": null,
      "outputs": []
    },
    {
      "cell_type": "code",
      "source": [
        "## CODE HERE"
      ],
      "metadata": {
        "id": "UwQUwZmUznRt"
      },
      "execution_count": null,
      "outputs": []
    },
    {
      "cell_type": "markdown",
      "metadata": {
        "id": "ir1AtgUsOaYL"
      },
      "source": [
        "Congratulations on finishing Laboratory 7."
      ]
    }
  ],
  "metadata": {
    "kernelspec": {
      "display_name": "Python 3",
      "language": "python",
      "name": "python3"
    },
    "language_info": {
      "codemirror_mode": {
        "name": "ipython",
        "version": 3
      },
      "file_extension": ".py",
      "mimetype": "text/x-python",
      "name": "python",
      "nbconvert_exporter": "python",
      "pygments_lexer": "ipython3",
      "version": "3.7.1"
    },
    "colab": {
      "provenance": []
    }
  },
  "nbformat": 4,
  "nbformat_minor": 0
}