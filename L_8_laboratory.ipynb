{
  "cells": [
    {
      "cell_type": "markdown",
      "metadata": {
        "id": "UGZYB6kz3Dj1"
      },
      "source": [
        "# sklearn Exercise - Poisson Regression\n",
        "\n",
        "The aim with this exercise is to to continue to work with sklearn on logistic regressions.\n",
        "\n",
        "You can find more details of the package here: https://scikit-learn.org/stable/index.html\n",
        "\n",
        "NOTE: We will import the modules as they are needed."
      ]
    },
    {
      "cell_type": "code",
      "execution_count": 27,
      "metadata": {
        "id": "xfax87X53ICC"
      },
      "outputs": [],
      "source": [
        "#importing libraries\n",
        "import pandas as pd\n",
        "import matplotlib.pyplot as plt\n",
        "import seaborn as sns\n",
        "from sklearn import metrics"
      ]
    },
    {
      "cell_type": "markdown",
      "metadata": {
        "id": "ZlP0DgybeNYy"
      },
      "source": [
        "## Get the Data\n",
        "\n",
        "We will use an awards competition dataset.\n",
        "\n",
        "The name of the dataset is [competition_awards](https://drive.google.com/uc?id=1LXQqzgO3QNT83k9LtsKI0pNCR_FfvLks).\n",
        "\n",
        "This dataset shows the number of awards each of 200 students had received and their math scores.\n",
        "\n",
        "This dataset includes the following features:\n",
        "* 'Awards': number of awards received\n",
        "* 'Math Score': math score on tests\n",
        "\n",
        "You will need to upload the file to your internal Google Drive and define the absolute path"
      ]
    },
    {
      "cell_type": "code",
      "execution_count": 28,
      "metadata": {
        "id": "XVXvjFCZ3Iiz"
      },
      "outputs": [
        {
          "data": {
            "text/html": [
              "<div>\n",
              "<style scoped>\n",
              "    .dataframe tbody tr th:only-of-type {\n",
              "        vertical-align: middle;\n",
              "    }\n",
              "\n",
              "    .dataframe tbody tr th {\n",
              "        vertical-align: top;\n",
              "    }\n",
              "\n",
              "    .dataframe thead th {\n",
              "        text-align: right;\n",
              "    }\n",
              "</style>\n",
              "<table border=\"1\" class=\"dataframe\">\n",
              "  <thead>\n",
              "    <tr style=\"text-align: right;\">\n",
              "      <th></th>\n",
              "      <th>Awards</th>\n",
              "      <th>Math Score</th>\n",
              "    </tr>\n",
              "  </thead>\n",
              "  <tbody>\n",
              "    <tr>\n",
              "      <th>0</th>\n",
              "      <td>0</td>\n",
              "      <td>43</td>\n",
              "    </tr>\n",
              "    <tr>\n",
              "      <th>1</th>\n",
              "      <td>0</td>\n",
              "      <td>38</td>\n",
              "    </tr>\n",
              "    <tr>\n",
              "      <th>2</th>\n",
              "      <td>0</td>\n",
              "      <td>41</td>\n",
              "    </tr>\n",
              "    <tr>\n",
              "      <th>3</th>\n",
              "      <td>0</td>\n",
              "      <td>33</td>\n",
              "    </tr>\n",
              "    <tr>\n",
              "      <th>4</th>\n",
              "      <td>0</td>\n",
              "      <td>39</td>\n",
              "    </tr>\n",
              "  </tbody>\n",
              "</table>\n",
              "</div>"
            ],
            "text/plain": [
              "   Awards  Math Score\n",
              "0       0          43\n",
              "1       0          38\n",
              "2       0          41\n",
              "3       0          33\n",
              "4       0          39"
            ]
          },
          "execution_count": 28,
          "metadata": {},
          "output_type": "execute_result"
        }
      ],
      "source": [
        "df = pd.read_csv('competition_awards_data.csv')\n",
        "df.head()"
      ]
    },
    {
      "cell_type": "markdown",
      "metadata": {
        "id": "Ao9svjf9fkiB"
      },
      "source": [
        "Check the the dataset information to review how the data looks and some of their descriptive statistics."
      ]
    },
    {
      "cell_type": "code",
      "execution_count": 29,
      "metadata": {
        "id": "tke_GPPS3IsL"
      },
      "outputs": [
        {
          "name": "stdout",
          "output_type": "stream",
          "text": [
            "<class 'pandas.core.frame.DataFrame'>\n",
            "RangeIndex: 200 entries, 0 to 199\n",
            "Data columns (total 2 columns):\n",
            " #   Column      Non-Null Count  Dtype\n",
            "---  ------      --------------  -----\n",
            " 0   Awards      200 non-null    int64\n",
            " 1   Math Score  200 non-null    int64\n",
            "dtypes: int64(2)\n",
            "memory usage: 3.3 KB\n"
          ]
        }
      ],
      "source": [
        "## CODE HERE\n",
        "df.info()"
      ]
    },
    {
      "cell_type": "markdown",
      "metadata": {
        "id": "dztmY4lgrY4U"
      },
      "source": [
        "## Exploratory Data Analysis\n",
        "\n",
        "Create a scatter plot of the awards vs the math score."
      ]
    },
    {
      "cell_type": "code",
      "execution_count": 30,
      "metadata": {
        "id": "1QtLURkS3I6w"
      },
      "outputs": [
        {
          "data": {
            "image/png": "[encoded data removed]",
            "text/plain": [
              "<Figure size 640x480 with 1 Axes>"
            ]
          },
          "metadata": {},
          "output_type": "display_data"
        }
      ],
      "source": [
        "## CODE HERE\n",
        "plt.scatter(df['Awards'], df['Math Score'])\n",
        "plt.title('Todo lo')\n",
        "plt.xlabel('Awards')\n",
        "plt.ylabel('Math Score')\n",
        "plt.grid(True)\n",
        "plt.show()"
      ]
    },
    {
      "cell_type": "markdown",
      "metadata": {
        "id": "FGk0zc_QgX7I"
      },
      "source": [
        "Create an histogram of the awards."
      ]
    },
    {
      "cell_type": "code",
      "execution_count": 31,
      "metadata": {
        "id": "KXjHdDNTgAcY"
      },
      "outputs": [
        {
          "data": {
            "image/png": "[encoded data removed]",
            "text/plain": [
              "<Figure size 640x480 with 1 Axes>"
            ]
          },
          "metadata": {},
          "output_type": "display_data"
        }
      ],
      "source": [
        "## CODE HERE\n",
        "plt.hist(df['Awards'], bins=range(int(df['Awards'].max()+1)), edgecolor='black')\n",
        "plt.title('que sube')\n",
        "plt.xlabel('Awards')\n",
        "plt.ylabel('Frequency')\n",
        "plt.show()"
      ]
    },
    {
      "cell_type": "markdown",
      "metadata": {
        "id": "5yvFW4bJgbuB"
      },
      "source": [
        "Create an histogram of the Math Score."
      ]
    },
    {
      "cell_type": "code",
      "execution_count": 32,
      "metadata": {
        "id": "47WPhf0LgOQx"
      },
      "outputs": [
        {
          "data": {
            "image/png": "[encoded data removed]",
            "text/plain": [
              "<Figure size 640x480 with 1 Axes>"
            ]
          },
          "metadata": {},
          "output_type": "display_data"
        }
      ],
      "source": [
        "## CODE HERE\n",
        "plt.hist(df['Math Score'], bins=10, edgecolor='black')  # Adjust bins if necessary\n",
        "plt.title('baja')\n",
        "plt.xlabel('Math Score')\n",
        "plt.ylabel('Frequency')\n",
        "plt.show()"
      ]
    },
    {
      "cell_type": "markdown",
      "metadata": {
        "id": "zXZbZIjlguAh"
      },
      "source": [
        "# Poisson Regression\n",
        "\n",
        "We will use sklearn's train_test_split to split the data into training and testing sets.\n",
        "\n",
        "Use a train size of 0.8 and random state equal to 1.\n",
        "Pass as a parameter your full dataframe.\n",
        "\n",
        "Note: Remember to import the function"
      ]
    },
    {
      "cell_type": "code",
      "execution_count": 33,
      "metadata": {
        "id": "WQV3ENJL3JDv"
      },
      "outputs": [],
      "source": [
        "## CODE HERE\n",
        "\n",
        "from sklearn.model_selection import train_test_split\n",
        "train_set, test_set = train_test_split(df, test_size=0.2, random_state=1)"
      ]
    },
    {
      "cell_type": "markdown",
      "metadata": {
        "id": "YPrWxobziOBY"
      },
      "source": [
        "Set your X and Y training variables\n",
        "\n",
        "X is equal to Math Score\n",
        "Y is equal to Awards\n",
        "\n",
        "Hint: You will need to reshape your array to appear as a 2D with dimensions samplesx1\n",
        "\n",
        "Check the shape of your variables"
      ]
    },
    {
      "cell_type": "code",
      "execution_count": 34,
      "metadata": {
        "id": "VDqFsrv1Iol1"
      },
      "outputs": [
        {
          "name": "stdout",
          "output_type": "stream",
          "text": [
            "X_train shape: (160, 1)\n",
            "Y_train shape: (160,)\n"
          ]
        }
      ],
      "source": [
        "## CODE HERE\n",
        "X_train = train_set['Math Score'].values.reshape(-1, 1)  \n",
        "Y_train = train_set['Awards'].values\n",
        "print(\"X_train shape:\", X_train.shape)\n",
        "print(\"Y_train shape:\", Y_train.shape)"
      ]
    },
    {
      "cell_type": "markdown",
      "metadata": {
        "id": "kUhYhwqTi48m"
      },
      "source": [
        "Set your X and Y testing variables\n",
        "\n",
        "Hint: You will need the same reformulation as in training"
      ]
    },
    {
      "cell_type": "code",
      "execution_count": 35,
      "metadata": {
        "id": "G6njoL1qIygc"
      },
      "outputs": [
        {
          "name": "stdout",
          "output_type": "stream",
          "text": [
            "X_test shape: (40, 1)\n",
            "Y_test shape: (40,)\n"
          ]
        }
      ],
      "source": [
        "## CODE HERE\n",
        "X_test = test_set['Math Score'].values.reshape(-1, 1) \n",
        "Y_test = test_set['Awards'].values\n",
        "print(\"X_test shape:\", X_test.shape)\n",
        "print(\"Y_test shape:\", Y_test.shape)"
      ]
    },
    {
      "cell_type": "markdown",
      "metadata": {
        "id": "kPiOGWF3jGeh"
      },
      "source": [
        "## Training the model\n",
        "\n",
        "We will use sklearn's [Poisson Regressor](https://scikit-learn.org/stable/modules/generated/sklearn.linear_model.PoissonRegressor.html).\n",
        "\n",
        "Import the module and create an instance of the Poisson Regressor."
      ]
    },
    {
      "cell_type": "code",
      "execution_count": 36,
      "metadata": {
        "id": "WVbWjuOZd4Qv"
      },
      "outputs": [],
      "source": [
        "## CODE HERE\n",
        "from sklearn.linear_model import PoissonRegressor\n",
        "poisson_reg = PoissonRegressor()"
      ]
    },
    {
      "cell_type": "code",
      "execution_count": 37,
      "metadata": {
        "id": "MovDousj6Zkp"
      },
      "outputs": [],
      "source": [
        "## CODE HERE"
      ]
    },
    {
      "cell_type": "markdown",
      "metadata": {
        "id": "xSNmgVLpjaR2"
      },
      "source": [
        "Then, *fit* the training data into this model."
      ]
    },
    {
      "cell_type": "code",
      "execution_count": 38,
      "metadata": {
        "id": "pFtdIkBPIKTn"
      },
      "outputs": [
        {
          "data": {
            "text/html": [
              "<style>#sk-container-id-2 {color: black;}#sk-container-id-2 pre{padding: 0;}#sk-container-id-2 div.sk-toggleable {background-color: white;}#sk-container-id-2 label.sk-toggleable__label {cursor: pointer;display: block;width: 100%;margin-bottom: 0;padding: 0.3em;box-sizing: border-box;text-align: center;}#sk-container-id-2 label.sk-toggleable__label-arrow:before {content: \"▸\";float: left;margin-right: 0.25em;color: #696969;}#sk-container-id-2 label.sk-toggleable__label-arrow:hover:before {color: black;}#sk-container-id-2 div.sk-estimator:hover label.sk-toggleable__label-arrow:before {color: black;}#sk-container-id-2 div.sk-toggleable__content {max-height: 0;max-width: 0;overflow: hidden;text-align: left;background-color: #f0f8ff;}#sk-container-id-2 div.sk-toggleable__content pre {margin: 0.2em;color: black;border-radius: 0.25em;background-color: #f0f8ff;}#sk-container-id-2 input.sk-toggleable__control:checked~div.sk-toggleable__content {max-height: 200px;max-width: 100%;overflow: auto;}#sk-container-id-2 input.sk-toggleable__control:checked~label.sk-toggleable__label-arrow:before {content: \"▾\";}#sk-container-id-2 div.sk-estimator input.sk-toggleable__control:checked~label.sk-toggleable__label {background-color: #d4ebff;}#sk-container-id-2 div.sk-label input.sk-toggleable__control:checked~label.sk-toggleable__label {background-color: #d4ebff;}#sk-container-id-2 input.sk-hidden--visually {border: 0;clip: rect(1px 1px 1px 1px);clip: rect(1px, 1px, 1px, 1px);height: 1px;margin: -1px;overflow: hidden;padding: 0;position: absolute;width: 1px;}#sk-container-id-2 div.sk-estimator {font-family: monospace;background-color: #f0f8ff;border: 1px dotted black;border-radius: 0.25em;box-sizing: border-box;margin-bottom: 0.5em;}#sk-container-id-2 div.sk-estimator:hover {background-color: #d4ebff;}#sk-container-id-2 div.sk-parallel-item::after {content: \"\";width: 100%;border-bottom: 1px solid gray;flex-grow: 1;}#sk-container-id-2 div.sk-label:hover label.sk-toggleable__label {background-color: #d4ebff;}#sk-container-id-2 div.sk-serial::before {content: \"\";position: absolute;border-left: 1px solid gray;box-sizing: border-box;top: 0;bottom: 0;left: 50%;z-index: 0;}#sk-container-id-2 div.sk-serial {display: flex;flex-direction: column;align-items: center;background-color: white;padding-right: 0.2em;padding-left: 0.2em;position: relative;}#sk-container-id-2 div.sk-item {position: relative;z-index: 1;}#sk-container-id-2 div.sk-parallel {display: flex;align-items: stretch;justify-content: center;background-color: white;position: relative;}#sk-container-id-2 div.sk-item::before, #sk-container-id-2 div.sk-parallel-item::before {content: \"\";position: absolute;border-left: 1px solid gray;box-sizing: border-box;top: 0;bottom: 0;left: 50%;z-index: -1;}#sk-container-id-2 div.sk-parallel-item {display: flex;flex-direction: column;z-index: 1;position: relative;background-color: white;}#sk-container-id-2 div.sk-parallel-item:first-child::after {align-self: flex-end;width: 50%;}#sk-container-id-2 div.sk-parallel-item:last-child::after {align-self: flex-start;width: 50%;}#sk-container-id-2 div.sk-parallel-item:only-child::after {width: 0;}#sk-container-id-2 div.sk-dashed-wrapped {border: 1px dashed gray;margin: 0 0.4em 0.5em 0.4em;box-sizing: border-box;padding-bottom: 0.4em;background-color: white;}#sk-container-id-2 div.sk-label label {font-family: monospace;font-weight: bold;display: inline-block;line-height: 1.2em;}#sk-container-id-2 div.sk-label-container {text-align: center;}#sk-container-id-2 div.sk-container {/* jupyter's `normalize.less` sets `[hidden] { display: none; }` but bootstrap.min.css set `[hidden] { display: none !important; }` so we also need the `!important` here to be able to override the default hidden behavior on the sphinx rendered scikit-learn.org. See: https://github.com/scikit-learn/scikit-learn/issues/21755 */display: inline-block !important;position: relative;}#sk-container-id-2 div.sk-text-repr-fallback {display: none;}</style><div id=\"sk-container-id-2\" class=\"sk-top-container\"><div class=\"sk-text-repr-fallback\"><pre>PoissonRegressor()</pre><b>In a Jupyter environment, please rerun this cell to show the HTML representation or trust the notebook. <br />On GitHub, the HTML representation is unable to render, please try loading this page with nbviewer.org.</b></div><div class=\"sk-container\" hidden><div class=\"sk-item\"><div class=\"sk-estimator sk-toggleable\"><input class=\"sk-toggleable__control sk-hidden--visually\" id=\"sk-estimator-id-2\" type=\"checkbox\" checked><label for=\"sk-estimator-id-2\" class=\"sk-toggleable__label sk-toggleable__label-arrow\">PoissonRegressor</label><div class=\"sk-toggleable__content\"><pre>PoissonRegressor()</pre></div></div></div></div></div>"
            ],
            "text/plain": [
              "PoissonRegressor()"
            ]
          },
          "execution_count": 38,
          "metadata": {},
          "output_type": "execute_result"
        }
      ],
      "source": [
        "## CODE HERE\n",
        "poisson_reg.fit(X_train, Y_train)"
      ]
    },
    {
      "cell_type": "markdown",
      "metadata": {
        "id": "uh8k3w1rjh4N"
      },
      "source": [
        "## Predicting Test Data\n",
        "\n",
        "Once you had fit the model, you can evaluate the performance of the model using the test data.\n",
        "\n",
        "Thus, *predict* the results using the *X* test data."
      ]
    },
    {
      "cell_type": "code",
      "execution_count": 39,
      "metadata": {
        "id": "1ajxgBQ2H6UH"
      },
      "outputs": [],
      "source": [
        "## CODE HERE\n",
        "Y_pred = poisson_reg.predict(X_test)"
      ]
    },
    {
      "cell_type": "markdown",
      "metadata": {
        "id": "inzW3llljt4b"
      },
      "source": [
        "## Evaluating the Model\n",
        "\n",
        "We will use sklearn's [metrics](https://scikit-learn.org/stable/modules/model_evaluation.html) module to evaluate the perfomance of the model.\n",
        "\n",
        "To evaluate the performance, we will use sklearn's [r2_score](https://scikit-learn.org/stable/modules/generated/sklearn.metrics.r2_score.html)\n",
        "\n",
        "Remember to import the module."
      ]
    },
    {
      "cell_type": "code",
      "execution_count": 40,
      "metadata": {
        "id": "-x_IsA71eAAy"
      },
      "outputs": [
        {
          "name": "stdout",
          "output_type": "stream",
          "text": [
            "R2 score: 0.8371373661390162\n"
          ]
        }
      ],
      "source": [
        "## CODE HERE\n",
        "from sklearn.metrics import r2_score\n",
        "r2 = r2_score(Y_test, Y_pred)\n",
        "print(\"R2 score:\", r2)"
      ]
    },
    {
      "cell_type": "markdown",
      "metadata": {
        "id": "NLteoImlkR2W"
      },
      "source": [
        "Calculate your R2 score using your testing versus your prediction data."
      ]
    },
    {
      "cell_type": "code",
      "execution_count": 41,
      "metadata": {
        "id": "LS0xwKnQJK83"
      },
      "outputs": [
        {
          "name": "stdout",
          "output_type": "stream",
          "text": [
            "R² score for testing data: 0.8371373661390162\n"
          ]
        }
      ],
      "source": [
        "## CODE HERE\n",
        "r2_test = r2_score(Y_test, Y_pred)\n",
        "print(\"R² score for testing data:\", r2_test)"
      ]
    },
    {
      "cell_type": "markdown",
      "metadata": {
        "id": "hefC7lAdJbKp"
      },
      "source": [
        "We will evaluate the performance of the model on the training data.\n",
        "\n",
        "Thus, *predict* the results using the *X* train data"
      ]
    },
    {
      "cell_type": "code",
      "execution_count": 42,
      "metadata": {
        "id": "Od1Lo7RoJSCB"
      },
      "outputs": [],
      "source": [
        "## CODE HERE\n",
        "Y_train_pred = poisson_reg.predict(X_train)"
      ]
    },
    {
      "cell_type": "markdown",
      "metadata": {
        "id": "vrHMwDc9k2Jq"
      },
      "source": [
        "Calculate your R2 score using your training versus your prediction data out of training."
      ]
    },
    {
      "cell_type": "code",
      "execution_count": 43,
      "metadata": {
        "id": "J3k5WcHuJjpM"
      },
      "outputs": [
        {
          "name": "stdout",
          "output_type": "stream",
          "text": [
            "R² score for training data: 0.858610788597759\n"
          ]
        }
      ],
      "source": [
        "## CODE HERE\n",
        "r2_train = r2_score(Y_train, Y_train_pred)\n",
        "print(\"R² score for training data:\", r2_train)"
      ]
    },
    {
      "cell_type": "markdown",
      "metadata": {
        "id": "vGDMBMBKlPqs"
      },
      "source": [
        "Create a scatter plot where you the original vs the predicted values for both the training and testing data.\n",
        "\n",
        "[Result](https://drive.google.com/uc?id=1wALnQQ95RBC6AcDVSLRNmfCvDQWcNnJd)"
      ]
    },
    {
      "cell_type": "code",
      "execution_count": 44,
      "metadata": {
        "id": "ayK0QH2qJyhr"
      },
      "outputs": [
        {
          "data": {
            "image/png": "[encoded data removed]",
            "text/plain": [
              "<Figure size 1000x500 with 2 Axes>"
            ]
          },
          "metadata": {},
          "output_type": "display_data"
        }
      ],
      "source": [
        "## CODE HERE\n",
        "plt.figure(figsize=(10, 5))\n",
        "plt.subplot(1, 2, 1)\n",
        "plt.scatter(Y_test, Y_pred, alpha=0.5, color='red')\n",
        "plt.title('Testing Data: Actual vs. Predicted')\n",
        "plt.xlabel('Actual Awards')\n",
        "plt.ylabel('Predicted Awards')\n",
        "plt.subplot(1, 2, 2)\n",
        "plt.scatter(Y_train, Y_train_pred, alpha=0.5, color='blue')\n",
        "plt.title('Training Data: Actual vs. Predicted')\n",
        "plt.xlabel('Actual Awards')\n",
        "plt.ylabel('Predicted Awards')\n",
        "plt.tight_layout()\n",
        "plt.show()"
      ]
    },
    {
      "cell_type": "markdown",
      "metadata": {
        "id": "sqNHnPHapG14"
      },
      "source": [
        "Create a new dataframe using your testing data where one column is the real test *Y* values and the other column are the predicted test values rounded up to the integer.\n",
        "\n",
        "Show the head and descriptive statistics of this new dataframe"
      ]
    },
    {
      "cell_type": "code",
      "execution_count": 46,
      "metadata": {
        "id": "g0XFncmeJ2S5"
      },
      "outputs": [
        {
          "name": "stdout",
          "output_type": "stream",
          "text": [
            "   Actual Awards  Predicted Awards\n",
            "0              0               1.0\n",
            "1              0               1.0\n",
            "2              1               1.0\n",
            "3              0               1.0\n",
            "4              2               4.0\n"
          ]
        }
      ],
      "source": [
        "## CODE HERE\n",
        "import numpy as np\n",
        "results_df = pd.DataFrame({\n",
        "    'Actual Awards': Y_test,\n",
        "    'Predicted Awards': np.ceil(Y_pred)  \n",
        "})\n",
        "print(results_df.head())"
      ]
    },
    {
      "cell_type": "code",
      "execution_count": 47,
      "metadata": {
        "id": "F25QhabWpoPW"
      },
      "outputs": [
        {
          "name": "stdout",
          "output_type": "stream",
          "text": [
            "       Actual Awards  Predicted Awards\n",
            "count      40.000000         40.000000\n",
            "mean        0.775000          1.650000\n",
            "std         1.208676          1.331088\n",
            "min         0.000000          1.000000\n",
            "25%         0.000000          1.000000\n",
            "50%         0.000000          1.000000\n",
            "75%         1.000000          1.000000\n",
            "max         5.000000          5.000000\n"
          ]
        }
      ],
      "source": [
        "## CODE HERE\n",
        "print(results_df.describe())"
      ]
    },
    {
      "cell_type": "markdown",
      "metadata": {
        "id": "JtgbuBVapr-J"
      },
      "source": [
        "Create a frequency table\n",
        "\n",
        "Group by the counts of number of awards.\n",
        "\n",
        "Each row on the table should correspond to the predicted number of awards.\n",
        "\n",
        "Each column on the table should corresponds to the real number of awards"
      ]
    },
    {
      "cell_type": "code",
      "execution_count": 48,
      "metadata": {
        "id": "4tQmwwdyJ_qa"
      },
      "outputs": [
        {
          "name": "stdout",
          "output_type": "stream",
          "text": [
            "Actual Awards      0  1  2  3  5\n",
            "Predicted Awards                \n",
            "1.0               24  8  0  0  0\n",
            "4.0                0  0  3  3  0\n",
            "5.0                0  0  0  1  1\n"
          ]
        }
      ],
      "source": [
        "## CODE HERE\n",
        "frequency_table = pd.crosstab(index=results_df['Predicted Awards'], columns=results_df['Actual Awards'])\n",
        "print(frequency_table)"
      ]
    },
    {
      "cell_type": "markdown",
      "metadata": {
        "id": "TDGwxZy1qNbm"
      },
      "source": [
        "Congratulations on finishing Laboratory 8."
      ]
    }
  ],
  "metadata": {
    "colab": {
      "provenance": []
    },
    "kernelspec": {
      "display_name": "Python 3",
      "name": "python3"
    },
    "language_info": {
      "codemirror_mode": {
        "name": "ipython",
        "version": 3
      },
      "file_extension": ".py",
      "mimetype": "text/x-python",
      "name": "python",
      "nbconvert_exporter": "python",
      "pygments_lexer": "ipython3",
      "version": "3.11.5"
    }
  },
  "nbformat": 4,
  "nbformat_minor": 0
}
